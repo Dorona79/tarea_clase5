{
 "cells": [
  {
   "cell_type": "markdown",
   "metadata": {},
   "source": [
    "## Calculadora Simple"
   ]
  },
  {
   "cell_type": "code",
   "execution_count": 7,
   "metadata": {},
   "outputs": [
    {
     "name": "stdout",
     "output_type": "stream",
     "text": [
      "Calculadora simple\n",
      "Seleccione una operación:\n",
      "1. Suma\n",
      "2. Resta\n",
      "3. Multiplicación\n",
      "4. División\n",
      "El resultado es: 10 + 20 = 30\n"
     ]
    }
   ],
   "source": [
    "print(\"Calculadora simple\")\n",
    "print(\"Seleccione una operación:\")\n",
    "print(\"1. Suma\")\n",
    "print(\"2. Resta\")\n",
    "print(\"3. Multiplicación\")\n",
    "print(\"4. División\")\n",
    "\n",
    "operacion = input(\"Ingrese el número de la operación que desea realizar (1/2/3/4): \")\n",
    "\n",
    "if operacion in ['1', '2', '3', '4']:\n",
    "    num1 = float(input(\"Ingrese el primer número: \"))\n",
    "    num2 = float(input(\"Ingrese el segundo número: \"))\n",
    "\n",
    "    if operacion == '1':\n",
    "        resultado = num1 + num2\n",
    "        if resultado.is_integer():\n",
    "            resultado = int(resultado)\n",
    "        print(f\"El resultado es: {int(num1) if num1.is_integer() else num1} + {int(num2) if num2.is_integer() else num2} = {resultado}\")\n",
    "    elif operacion == '2':\n",
    "        resultado = num1 - num2\n",
    "        if resultado.is_integer():\n",
    "            resultado = int(resultado)\n",
    "        print(f\"El resultado es: {int(num1) if num1.is_integer() else num1} - {int(num2) if num2.is_integer() else num2} = {resultado}\")\n",
    "    elif operacion == '3':\n",
    "        resultado = num1 * num2\n",
    "        if resultado.is_integer():\n",
    "            resultado = int(resultado)\n",
    "        print(f\"El resultado es: {int(num1) if num1.is_integer() else num1} * {int(num2) if num2.is_integer() else num2} = {resultado}\")\n",
    "    elif operacion == '4':\n",
    "        if num2 != 0:\n",
    "            resultado = num1 / num2\n",
    "            if resultado.is_integer():\n",
    "                resultado = int(resultado)\n",
    "            print(f\"El resultado es: {int(num1) if num1.is_integer() else num1} / {int(num2) if num2.is_integer() else num2} = {resultado}\")\n",
    "        else:\n",
    "            print(\"Error: División por cero no permitida\")\n",
    "else:\n",
    "    print(\"Operación no válida. Por favor, seleccione una operación del 1 al 4.\")\n"
   ]
  }
 ],
 "metadata": {
  "kernelspec": {
   "display_name": "Python 3",
   "language": "python",
   "name": "python3"
  },
  "language_info": {
   "codemirror_mode": {
    "name": "ipython",
    "version": 3
   },
   "file_extension": ".py",
   "mimetype": "text/x-python",
   "name": "python",
   "nbconvert_exporter": "python",
   "pygments_lexer": "ipython3",
   "version": "3.11.5"
  }
 },
 "nbformat": 4,
 "nbformat_minor": 2
}
