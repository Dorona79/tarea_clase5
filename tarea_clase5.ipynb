{
 "cells": [
  {
   "cell_type": "markdown",
   "metadata": {},
   "source": [
    "## Calculadora Simple"
   ]
  },
  {
   "cell_type": "code",
   "execution_count": 4,
   "metadata": {},
   "outputs": [
    {
     "name": "stdout",
     "output_type": "stream",
     "text": [
      "Calculadora Simple\n",
      "Seleccione una operación:\n",
      "1. Suma\n",
      "2. Resta\n",
      "3. Multiplicación\n",
      "4. División\n",
      "El resultado es: 4\n"
     ]
    }
   ],
   "source": [
    "print(\"Calculadora Simple\")\n",
    "print(\"Seleccione una operación:\")\n",
    "print(\"1. Suma\")\n",
    "print(\"2. Resta\")\n",
    "print(\"3. Multiplicación\")\n",
    "print(\"4. División\")\n",
    "\n",
    "operacion = input(\"Ingrese el número de la operación que desea realizar (1/2/3/4): \")\n",
    "\n",
    "if operacion in ['1', '2', '3', '4']:\n",
    "    num1 = float(input(\"Ingrese el primer número: \"))\n",
    "    num2 = float(input(\"Ingrese el segundo número: \"))\n",
    "\n",
    "    if operacion == '1':\n",
    "        resultado = num1 + num2\n",
    "        if resultado.is_integer():\n",
    "            resultado = int(resultado)\n",
    "        print(f\"El resultado es: {resultado}\")\n",
    "    elif operacion == '2':\n",
    "        resultado = num1 - num2\n",
    "        if resultado.is_integer():\n",
    "            resultado = int(resultado)\n",
    "        print(f\"El resultado es: {resultado}\")\n",
    "    elif operacion == '3':\n",
    "        resultado = num1 * num2\n",
    "        if resultado.is_integer():\n",
    "            resultado = int(resultado)\n",
    "        print(f\"El resultado es: {resultado}\")\n",
    "    elif operacion == '4':\n",
    "        if num2 != 0:\n",
    "            resultado = num1 / num2\n",
    "            if resultado.is_integer():\n",
    "                resultado = int(resultado)\n",
    "            print(f\"El resultado es: {resultado}\")\n",
    "        else:\n",
    "            print(\"Error: División por cero no permitida\")\n",
    "else:\n",
    "    print(\"Operación no válida. Por favor, seleccione una operación del 1 al 4.\")\n"
   ]
  },
  {
   "cell_type": "markdown",
   "metadata": {},
   "source": [
    "### Contador de Números Pares e Impares"
   ]
  },
  {
   "cell_type": "code",
   "execution_count": 3,
   "metadata": {},
   "outputs": [
    {
     "name": "stdout",
     "output_type": "stream",
     "text": [
      "Números pares: 10\n",
      "Números impares: 10\n"
     ]
    }
   ],
   "source": [
    "contador_pares = 0\n",
    "contador_impares = 0\n",
    "\n",
    "for numero in range(1, 21):\n",
    "    if numero % 2 == 0:\n",
    "        contador_pares += 1\n",
    "    else:\n",
    "        contador_impares += 1\n",
    "\n",
    "print(f\"Números pares: {contador_pares}\")\n",
    "print(f\"Números impares: {contador_impares}\")\n"
   ]
  },
  {
   "cell_type": "markdown",
   "metadata": {},
   "source": [
    "## Validación de Contraseña"
   ]
  },
  {
   "cell_type": "code",
   "execution_count": 7,
   "metadata": {},
   "outputs": [
    {
     "name": "stdout",
     "output_type": "stream",
     "text": [
      "¡Contraseña correcta!\n"
     ]
    }
   ],
   "source": [
    "contrasena_correcta = \"python123\"\n",
    "\n",
    "while True:\n",
    "    contrasena = input(\"Ingrese la contraseña: \")\n",
    "    \n",
    "    if contrasena == contrasena_correcta:\n",
    "        print(\"¡Contraseña correcta!\")\n",
    "        break\n",
    "    else:\n",
    "        print(\"Contraseña incorrecta. Inténtelo de nuevo.\")\n"
   ]
  },
  {
   "cell_type": "markdown",
   "metadata": {},
   "source": [
    "## Identificador de Números Primos"
   ]
  },
  {
   "cell_type": "code",
   "execution_count": 24,
   "metadata": {},
   "outputs": [
    {
     "name": "stdout",
     "output_type": "stream",
     "text": [
      "El número 2 es un número primo.\n"
     ]
    }
   ],
   "source": [
    "numero = int(input(\"Ingrese un número entero: \"))\n",
    "\n",
    "es_primo = True\n",
    "\n",
    "if numero < 2:\n",
    "    es_primo = False\n",
    "else:\n",
    "    for i in range(2, numero):\n",
    "        if numero % i == 0:\n",
    "            es_primo = False\n",
    "            break\n",
    "\n",
    "if es_primo:\n",
    "    print(f\"El número {numero} es un número primo.\")\n",
    "else:\n",
    "    print(f\"El número {numero} no es un número primo.\")"
   ]
  }
 ],
 "metadata": {
  "kernelspec": {
   "display_name": "Python 3",
   "language": "python",
   "name": "python3"
  },
  "language_info": {
   "codemirror_mode": {
    "name": "ipython",
    "version": 3
   },
   "file_extension": ".py",
   "mimetype": "text/x-python",
   "name": "python",
   "nbconvert_exporter": "python",
   "pygments_lexer": "ipython3",
   "version": "3.11.5"
  }
 },
 "nbformat": 4,
 "nbformat_minor": 2
}
